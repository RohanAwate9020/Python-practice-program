{
  "nbformat": 4,
  "nbformat_minor": 0,
  "metadata": {
    "colab": {
      "name": "Task5-BarChart.ipynb",
      "provenance": [],
      "collapsed_sections": [],
      "authorship_tag": "ABX9TyMM+U2sFCJtN5uo5h3jW9zu",
      "include_colab_link": true
    },
    "kernelspec": {
      "name": "python3",
      "display_name": "Python 3"
    },
    "language_info": {
      "name": "python"
    }
  },
  "cells": [
    {
      "cell_type": "markdown",
      "metadata": {
        "id": "view-in-github",
        "colab_type": "text"
      },
      "source": [
        "<a href=\"https://colab.research.google.com/github/RohanAwate9020/Python-practice-program/blob/main/Task5_BarChart.ipynb\" target=\"_parent\"><img src=\"https://colab.research.google.com/assets/colab-badge.svg\" alt=\"Open In Colab\"/></a>"
      ]
    },
    {
      "cell_type": "code",
      "execution_count": 66,
      "metadata": {
        "colab": {
          "base_uri": "https://localhost:8080/",
          "height": 295
        },
        "id": "8S1uCwSMXcHB",
        "outputId": "4e7b3731-d200-4efd-cbfa-e3951177dd66"
      },
      "outputs": [
        {
          "output_type": "display_data",
          "data": {
            "image/png": "[encoded data removed]",
            "text/plain": [
              "<Figure size 432x288 with 1 Axes>"
            ]
          },
          "metadata": {
            "needs_background": "light"
          }
        }
      ],
      "source": [
        "import matplotlib.pyplot as plt\n",
        "import pandas as pd\n",
        "  \n",
        "data = pd.read_csv('/content/flight_delays.csv')\n",
        "df = pd.DataFrame(data)\n",
        "  \n",
        "X = list(df.iloc[:, 0])\n",
        "Y = list(df.iloc[:, 1])\n",
        "  \n",
        "plt.bar(X, Y, color='g')\n",
        "plt.title(\"AA Flight Delay Record\")\n",
        "plt.xlabel(\"Month\")\n",
        "plt.ylabel(\"flights\")\n",
        "  \n",
        "plt.show()\n"
      ]
    },
    {
      "cell_type": "code",
      "source": [
        "import matplotlib.pyplot as plt\n",
        "import pandas as pd\n",
        "  \n",
        "data = pd.read_csv('/content/flight_delays.csv')\n",
        "df = pd.DataFrame(data)\n",
        "  \n",
        "X = data['Month']\n",
        "Y = data['AS']\n",
        "  \n",
        "plt.bar(X, Y, color='g')\n",
        "plt.title(\"Flight Delay Record\")\n",
        "plt.xlabel(\"Month\")\n",
        "plt.ylabel(\"flights\")\n",
        "  \n",
        "plt.show()"
      ],
      "metadata": {
        "colab": {
          "base_uri": "https://localhost:8080/",
          "height": 295
        },
        "id": "3aiLUBhh_SGI",
        "outputId": "f2ca3e0b-2172-4593-a028-f1d6f1f5239e"
      },
      "execution_count": 11,
      "outputs": [
        {
          "output_type": "display_data",
          "data": {
            "image/png": "[encoded data removed]",
            "text/plain": [
              "<Figure size 432x288 with 1 Axes>"
            ]
          },
          "metadata": {
            "needs_background": "light"
          }
        }
      ]
    }
  ]
}