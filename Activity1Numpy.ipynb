{
  "nbformat": 4,
  "nbformat_minor": 0,
  "metadata": {
    "colab": {
      "name": "Activity1Numpy.ipynb",
      "provenance": [],
      "authorship_tag": "ABX9TyNf/wE9IG2injR68oDqC10H",
      "include_colab_link": true
    },
    "kernelspec": {
      "name": "python3",
      "display_name": "Python 3"
    },
    "language_info": {
      "name": "python"
    }
  },
  "cells": [
    {
      "cell_type": "markdown",
      "metadata": {
        "id": "view-in-github",
        "colab_type": "text"
      },
      "source": [
        "<a href=\"https://colab.research.google.com/github/RohanAwate9020/Python-practice-program/blob/main/Activity1Numpy.ipynb\" target=\"_parent\"><img src=\"https://colab.research.google.com/assets/colab-badge.svg\" alt=\"Open In Colab\"/></a>"
      ]
    },
    {
      "cell_type": "code",
      "execution_count": 31,
      "metadata": {
        "colab": {
          "base_uri": "https://localhost:8080/"
        },
        "id": "H9uS5PZ9tTkM",
        "outputId": "743db082-86c4-40b4-88d3-22322afa071f"
      },
      "outputs": [
        {
          "output_type": "stream",
          "name": "stdout",
          "text": [
            "Elements of Array are:\n",
            "[[[ 1  2  3  4]\n",
            "  [ 5  6  7  8]]\n",
            "\n",
            " [[ 9 10 11 12]\n",
            "  [12  4  5  6]]]\n",
            "\n",
            "********************************************************************\n",
            "Performing multiple operations on array:\n",
            "\n",
            "1.\tType of array: <class 'numpy.ndarray'>\n",
            "2.\tThe array is: 3 dimensional\n",
            "3.\tThe Size of array(Printing the elements stored in array): 16\n",
            "4.\tArray Store element of type: int64\n"
          ]
        }
      ],
      "source": [
        "import numpy as np\n",
        "#numpy library \n",
        "\n",
        "arr=np.array([[[1,2,3,4],[5,6,7,8]],[[9,10,11,12],[12,4,5,6]]])\n",
        "#Definig and initializing array\n",
        "\n",
        "print(\"Elements of Array are:\")\n",
        "print(arr)\n",
        "#printing array\n",
        "\n",
        "print(\"\\n********************************************************************\")\n",
        "print(\"Performing multiple operations on array:\")\n",
        "\n",
        "\n",
        "print(\"\\n1.\\tType of array:\", type(arr))\n",
        "#printing type of array\n",
        "\n",
        "\n",
        "print(\"2.\\tThe array is:\", arr.ndim,\"dimensional\")\n",
        "#printing dimensions of array\n",
        "\n",
        "print(\"3.\\tThe Size of array(Printing the elements stored in array):\",arr.size)\n",
        "#printing the size of array\n",
        "\n",
        "print(\"4.\\tArray Store element of type:\",arr.dtype)\n",
        "#printing array element datatype\n",
        "\n",
        "\n",
        "\n"
      ]
    },
    {
      "cell_type": "code",
      "source": [
        "import numpy as np\n",
        "a = np.array([1,2,5,3,6,7,8,9])\n",
        "print(\"Elements of Array are:\")\n",
        "print(a)\n",
        "print(\"\\nPerforming Operations on Array\")\n",
        "print('\\n************************************************************************')\n",
        "\n",
        "print (\"1.\\tAdding 1 to every element:\", a+1)\n",
        "# adding 1 to every element\n",
        "  \n",
        "print (\"2.\\tSubtracting 3 from each element:\", a-3)\n",
        "# subtract 3 from each element\n",
        "  \n",
        "# multiply each element by 10\n",
        "print (\"3.\\tMultiplying each element by 10:\", a*10)\n",
        "  \n",
        "# square each element\n",
        "print (\"4.\\tSquaring each element:\", a**2)\n",
        "  \n",
        "# modify existing array\n",
        "a *= 2\n",
        "print (\"5.\\tDoubled each element of original array:\", a)\n",
        "\n",
        "  "
      ],
      "metadata": {
        "colab": {
          "base_uri": "https://localhost:8080/"
        },
        "id": "Stfx_m8V06Ok",
        "outputId": "c2fbedf2-1633-418d-ae0b-9f5871b312e1"
      },
      "execution_count": 53,
      "outputs": [
        {
          "output_type": "stream",
          "name": "stdout",
          "text": [
            "Elements of Array are:\n",
            "[1 2 5 3 6 7 8 9]\n",
            "\n",
            "Performing Operations on Array\n",
            "\n",
            "************************************************************************\n",
            "1.\tAdding 1 to every element: [ 2  3  6  4  7  8  9 10]\n",
            "2.\tSubtracting 3 from each element: [-2 -1  2  0  3  4  5  6]\n",
            "3.\tMultiplying each element by 10: [10 20 50 30 60 70 80 90]\n",
            "4.\tSquaring each element: [ 1  4 25  9 36 49 64 81]\n",
            "5.\tDoubled each element of original array: [ 2  4 10  6 12 14 16 18]\n"
          ]
        }
      ]
    },
    {
      "cell_type": "code",
      "source": [
        ""
      ],
      "metadata": {
        "id": "yHxKLxdg1Kbo"
      },
      "execution_count": null,
      "outputs": []
    },
    {
      "cell_type": "code",
      "source": [
        "import numpy as np\n",
        "\n",
        "\n",
        "arr = np.array([(8,9,10),(11,12,13)])\n",
        "#Definig and initializing array\n",
        "\n",
        "print(\"Array before Reshape\")\n",
        "print(arr)\n",
        "#printing array before reshape\n",
        "\n",
        "arr=arr.reshape(3,2)\n",
        "#function to Reshape array \n",
        "\n",
        "print(\"\\nArray After applying reshape function on it:\")\n",
        "print(arr)"
      ],
      "metadata": {
        "colab": {
          "base_uri": "https://localhost:8080/"
        },
        "id": "TOZz8VkZtpLW",
        "outputId": "6da1091e-f14e-42e3-d1ac-9f680166bf69"
      },
      "execution_count": 34,
      "outputs": [
        {
          "output_type": "stream",
          "name": "stdout",
          "text": [
            "Array before Reshape\n",
            "[[ 8  9 10]\n",
            " [11 12 13]]\n",
            "\n",
            "Array After applying reshape function on it:\n",
            "[[ 8  9]\n",
            " [10 11]\n",
            " [12 13]]\n"
          ]
        }
      ]
    },
    {
      "cell_type": "code",
      "source": [
        "import numpy as np\n",
        "\n",
        "print(\"Elements of array are:\")\n",
        "a=np.array([(1,2,3,4),(3,4,5,6)])\n",
        "print(a)\n",
        "\n",
        "print(\"\\nPerforming slicing operations on Array:\")\n",
        "print(\"\\n****************************************************************\")\n",
        "print(\"\\n1.\\tPrinting third elemnt of first index:\",a[0,2])\n",
        "print(\"2.\\tPrinting Thired element of first and second index:\",a[0:,2])\n",
        "print(\"3.\\tPrinting Smallest element from Array:\",a.min())\n",
        "print(\"4.\\tPrinting Largest element form Array:\",a.max())\n",
        "print(\"5.\\tPrinting the sum of all element of Array:\",a.sum())"
      ],
      "metadata": {
        "colab": {
          "base_uri": "https://localhost:8080/"
        },
        "id": "GyEPPKSbiq5R",
        "outputId": "67010be8-8514-46ff-c8b8-2240c2b28bf8"
      },
      "execution_count": 47,
      "outputs": [
        {
          "output_type": "stream",
          "name": "stdout",
          "text": [
            "Elements of array are:\n",
            "[[1 2 3 4]\n",
            " [3 4 5 6]]\n",
            "\n",
            "Performing slicing operations on Array:\n",
            "\n",
            "****************************************************************\n",
            "\n",
            "1.\tPrinting third elemnt of first index: 3\n",
            "2.\tPrinting Thired element of first and second index: [3 5]\n",
            "3.\tPrinting Smallest element from Array: 1\n",
            "4.\tPrinting Largest element form Array: 6\n",
            "5.\tPrinting the sum of all element of Array: 28\n"
          ]
        }
      ]
    },
    {
      "cell_type": "code",
      "source": [
        "import numpy as np\n",
        "\n",
        "\n",
        "x= np.array([(1,2,3),(3,4,5)])\n",
        "print(\"Elements of first array:\")\n",
        "print(x)\n",
        "\n",
        "\n",
        "y= np.array([(1,2,3),(3,4,5)])\n",
        "print(\"\\nElements of Second array:\")\n",
        "print(y)\n",
        "\n",
        "print(\"\\nAddition of the element of both Array\")\n",
        "print(x+y)"
      ],
      "metadata": {
        "colab": {
          "base_uri": "https://localhost:8080/"
        },
        "id": "eOXdG7IPf3EV",
        "outputId": "ea582814-8d07-4be3-803c-17b5af384809"
      },
      "execution_count": 56,
      "outputs": [
        {
          "output_type": "stream",
          "name": "stdout",
          "text": [
            "Elements of first array:\n",
            "[[1 2 3]\n",
            " [3 4 5]]\n",
            "\n",
            "Elements of Second array:\n",
            "[[1 2 3]\n",
            " [3 4 5]]\n",
            "\n",
            "Addition of the element of both Array\n",
            "[[ 2  4  6]\n",
            " [ 6  8 10]]\n"
          ]
        }
      ]
    },
    {
      "cell_type": "code",
      "source": [
        "import numpy as np \n",
        "print(\"Elements of array are:\")\n",
        "a = np.array([1,2,3,4,5,6])\n",
        "print(a)\n",
        "\n",
        "print(\"\\nPerforming operations on Array:\")\n",
        "print(\"\\n****************************************************************\")   \n",
        "\n",
        "print ('Adding the elements to array:')\n",
        "print(np.append(a, [7,8,9]) )\n",
        "#Adding the new elements at the end of array\n",
        " "
      ],
      "metadata": {
        "id": "QmhLk-Am-q84",
        "outputId": "b86d0f60-302f-4092-cc74-b428b6633762",
        "colab": {
          "base_uri": "https://localhost:8080/"
        }
      },
      "execution_count": 66,
      "outputs": [
        {
          "output_type": "stream",
          "name": "stdout",
          "text": [
            "Elements of array are:\n",
            "[1 2 3 4 5 6]\n",
            "\n",
            "Performing operations on Array:\n",
            "\n",
            "****************************************************************\n",
            "Adding the elements to array:\n",
            "[1 2 3 4 5 6 7 8 9]\n"
          ]
        }
      ]
    }
  ]
}