{
  "nbformat": 4,
  "nbformat_minor": 0,
  "metadata": {
    "colab": {
      "name": "Activity1Numpy.ipynb",
      "provenance": [],
      "authorship_tag": "ABX9TyNXCIVb/qBby+HaZ6HoKLSl",
      "include_colab_link": true
    },
    "kernelspec": {
      "name": "python3",
      "display_name": "Python 3"
    },
    "language_info": {
      "name": "python"
    }
  },
  "cells": [
    {
      "cell_type": "markdown",
      "metadata": {
        "id": "view-in-github",
        "colab_type": "text"
      },
      "source": [
        "<a href=\"https://colab.research.google.com/github/RohanAwate9020/Python-practice-program/blob/main/Activity1Numpy.ipynb\" target=\"_parent\"><img src=\"https://colab.research.google.com/assets/colab-badge.svg\" alt=\"Open In Colab\"/></a>"
      ]
    },
    {
      "cell_type": "code",
      "execution_count": 70,
      "metadata": {
        "colab": {
          "base_uri": "https://localhost:8080/"
        },
        "id": "H9uS5PZ9tTkM",
        "outputId": "40640fc9-9564-4696-f78a-d29b8275e61a"
      },
      "outputs": [
        {
          "output_type": "stream",
          "name": "stdout",
          "text": [
            "Elements of Array are:\n",
            "[[[ 1  2  3  4]\n",
            "  [ 5  6  7  8]]\n",
            "\n",
            " [[ 9 10 11 12]\n",
            "  [12  4  5  6]]]\n",
            "\n",
            "********************************************************************\n",
            "Performing multiple operations on array:\n",
            "\n",
            "1.\tType of array: <class 'numpy.ndarray'>\n",
            "2.\tThe array is: 3 dimensional\n",
            "3.\tThe Size of array(Printing the elements stored in array): 16\n",
            "4.\tArray Store element of type: int64\n"
          ]
        }
      ],
      "source": [
        "import numpy as np\n",
        "#numpy library \n",
        "\n",
        "arr=np.array([[[1,2,3,4],[5,6,7,8]],[[9,10,11,12],[12,4,5,6]]])\n",
        "#Definig and initializing array\n",
        "\n",
        "print(\"Elements of Array are:\")\n",
        "print(arr)\n",
        "#printing array\n",
        "\n",
        "print(\"\\n********************************************************************\")\n",
        "print(\"Performing multiple operations on array:\")\n",
        "\n",
        "\n",
        "print(\"\\n1.\\tType of array:\", type(arr))\n",
        "#printing type of array\n",
        "\n",
        "\n",
        "print(\"2.\\tThe array is:\", arr.ndim,\"dimensional\")\n",
        "#printing dimensions of array\n",
        "\n",
        "print(\"3.\\tThe Size of array(Printing the elements stored in array):\",arr.size)\n",
        "#printing the size of array\n",
        "\n",
        "print(\"4.\\tArray Store element of type:\",arr.dtype)\n",
        "#printing array element datatype\n",
        "\n",
        "\n",
        "\n"
      ]
    },
    {
      "cell_type": "code",
      "source": [
        "import numpy as np\n",
        "a = np.array([1,2,5,3,6,7,8,9])\n",
        "print(\"Elements of Array are:\")\n",
        "print(a)\n",
        "print(\"\\nPerforming Operations on Array\")\n",
        "print('\\n************************************************************************')\n",
        "\n",
        "print (\"1.\\tAdding 1 to every element:\", a+1)\n",
        "# adding 1 to every element\n",
        "  \n",
        "print (\"2.\\tSubtracting 3 from each element:\", a-3)\n",
        "# subtract 3 from each element\n",
        "  \n",
        "# multiply each element by 10\n",
        "print (\"3.\\tMultiplying each element by 10:\", a*10)\n",
        "  \n",
        "# square each element\n",
        "print (\"4.\\tSquaring each element:\", a**2)\n",
        "  \n",
        "# modify existing array\n",
        "a *= 2\n",
        "print (\"5.\\tDoubled each element of original array:\", a)\n",
        "\n",
        "  "
      ],
      "metadata": {
        "colab": {
          "base_uri": "https://localhost:8080/"
        },
        "id": "Stfx_m8V06Ok",
        "outputId": "bb9972d2-eba3-46bc-81eb-e1899011e8c5"
      },
      "execution_count": 71,
      "outputs": [
        {
          "output_type": "stream",
          "name": "stdout",
          "text": [
            "Elements of Array are:\n",
            "[1 2 5 3 6 7 8 9]\n",
            "\n",
            "Performing Operations on Array\n",
            "\n",
            "************************************************************************\n",
            "1.\tAdding 1 to every element: [ 2  3  6  4  7  8  9 10]\n",
            "2.\tSubtracting 3 from each element: [-2 -1  2  0  3  4  5  6]\n",
            "3.\tMultiplying each element by 10: [10 20 50 30 60 70 80 90]\n",
            "4.\tSquaring each element: [ 1  4 25  9 36 49 64 81]\n",
            "5.\tDoubled each element of original array: [ 2  4 10  6 12 14 16 18]\n"
          ]
        }
      ]
    },
    {
      "cell_type": "code",
      "source": [
        "import numpy as np \n",
        "a = np.array([[1,2,3],[4,5,6],[7,8,9]]) \n",
        "\n",
        "print(\"Elements of First array:\")\n",
        "print (a)   \n",
        "\n",
        "print(\"\\nElemnts of Second array:\") \n",
        "b = np.array([[10,10,10],[20,20,20],[30,30,30]]) \n",
        "print(b) \n",
        " \n",
        "\n",
        "print(\"\\nPerforming Operations on Array\")\n",
        "print('\\n************************************************************************')\n",
        "\n",
        "\n",
        "print(\"Addition of the two arrays:\") \n",
        "print(np.add(a,b))\n",
        "#Addition of Two array\n",
        "\n",
        "\n",
        "print('Subtract the two arrays:')\n",
        "print(np.subtract(a,b)) \n",
        "#Substraction of two array\n",
        "  \n",
        "\n",
        "print('Multiply the two arrays:')\n",
        "print(np.multiply(a,b))\n",
        "#Multiplication of two array\n",
        "\n",
        "print('Divide the two arrays:')\n",
        "print(np.divide(b,a))\n",
        "#Division of Two array"
      ],
      "metadata": {
        "colab": {
          "base_uri": "https://localhost:8080/"
        },
        "id": "yHxKLxdg1Kbo",
        "outputId": "e4930873-8c03-4e60-dbae-9f3631d2c783"
      },
      "execution_count": 72,
      "outputs": [
        {
          "output_type": "stream",
          "name": "stdout",
          "text": [
            "Elements of First array:\n",
            "[[1 2 3]\n",
            " [4 5 6]\n",
            " [7 8 9]]\n",
            "\n",
            "Elemnts of Second array:\n",
            "[[10 10 10]\n",
            " [20 20 20]\n",
            " [30 30 30]]\n",
            "\n",
            "Performing Operations on Array\n",
            "\n",
            "************************************************************************\n",
            "Addition of the two arrays:\n",
            "[[11 12 13]\n",
            " [24 25 26]\n",
            " [37 38 39]]\n",
            "Subtract the two arrays:\n",
            "[[ -9  -8  -7]\n",
            " [-16 -15 -14]\n",
            " [-23 -22 -21]]\n",
            "Multiply the two arrays:\n",
            "[[ 10  20  30]\n",
            " [ 80 100 120]\n",
            " [210 240 270]]\n",
            "Divide the two arrays:\n",
            "[[10.          5.          3.33333333]\n",
            " [ 5.          4.          3.33333333]\n",
            " [ 4.28571429  3.75        3.33333333]]\n"
          ]
        }
      ]
    },
    {
      "cell_type": "code",
      "source": [
        "import numpy as np\n",
        "\n",
        "\n",
        "arr = np.array([(8,9,10),(11,12,13)])\n",
        "#Definig and initializing array\n",
        "\n",
        "print(\"Array before Reshape\")\n",
        "print(arr)\n",
        "#printing array before reshape\n",
        "\n",
        "arr=arr.reshape(3,2)\n",
        "#function to Reshape array \n",
        "\n",
        "print(\"\\nArray After applying reshape function on it:\")\n",
        "print(arr)"
      ],
      "metadata": {
        "colab": {
          "base_uri": "https://localhost:8080/"
        },
        "id": "TOZz8VkZtpLW",
        "outputId": "69aa0e13-2277-4414-cfc6-76ba36187257"
      },
      "execution_count": 73,
      "outputs": [
        {
          "output_type": "stream",
          "name": "stdout",
          "text": [
            "Array before Reshape\n",
            "[[ 8  9 10]\n",
            " [11 12 13]]\n",
            "\n",
            "Array After applying reshape function on it:\n",
            "[[ 8  9]\n",
            " [10 11]\n",
            " [12 13]]\n"
          ]
        }
      ]
    },
    {
      "cell_type": "code",
      "source": [
        "import numpy as np\n",
        "\n",
        "print(\"Elements of array are:\")\n",
        "a=np.array([(1,2,3,4),(3,4,5,6)])\n",
        "print(a)\n",
        "\n",
        "print(\"\\nPerforming slicing operations on Array:\")\n",
        "print(\"\\n****************************************************************\")\n",
        "print(\"\\n1.\\tPrinting third elemnt of first index:\",a[0,2])\n",
        "print(\"2.\\tPrinting Thired element of first and second index:\",a[0:,2])\n",
        "print(\"3.\\tPrinting Smallest element from Array:\",a.min())\n",
        "print(\"4.\\tPrinting Largest element form Array:\",a.max())\n",
        "print(\"5.\\tPrinting the sum of all element of Array:\",a.sum())"
      ],
      "metadata": {
        "colab": {
          "base_uri": "https://localhost:8080/"
        },
        "id": "GyEPPKSbiq5R",
        "outputId": "f5576e2d-1084-439c-8898-72c60d686a36"
      },
      "execution_count": 74,
      "outputs": [
        {
          "output_type": "stream",
          "name": "stdout",
          "text": [
            "Elements of array are:\n",
            "[[1 2 3 4]\n",
            " [3 4 5 6]]\n",
            "\n",
            "Performing slicing operations on Array:\n",
            "\n",
            "****************************************************************\n",
            "\n",
            "1.\tPrinting third elemnt of first index: 3\n",
            "2.\tPrinting Thired element of first and second index: [3 5]\n",
            "3.\tPrinting Smallest element from Array: 1\n",
            "4.\tPrinting Largest element form Array: 6\n",
            "5.\tPrinting the sum of all element of Array: 28\n"
          ]
        }
      ]
    },
    {
      "cell_type": "code",
      "source": [
        "import numpy as np\n",
        "\n",
        "\n",
        "x= np.array([(1,2,3),(3,4,5)])\n",
        "print(\"Elements of first array:\")\n",
        "print(x)\n",
        "\n",
        "\n",
        "y= np.array([(1,2,3),(3,4,5)])\n",
        "print(\"\\nElements of Second array:\")\n",
        "print(y)\n",
        "\n",
        "print(\"\\nAddition of the element of both Array\")\n",
        "print(x+y)"
      ],
      "metadata": {
        "colab": {
          "base_uri": "https://localhost:8080/"
        },
        "id": "eOXdG7IPf3EV",
        "outputId": "04da83b2-f56b-43b6-b333-c3e7d71152d4"
      },
      "execution_count": 75,
      "outputs": [
        {
          "output_type": "stream",
          "name": "stdout",
          "text": [
            "Elements of first array:\n",
            "[[1 2 3]\n",
            " [3 4 5]]\n",
            "\n",
            "Elements of Second array:\n",
            "[[1 2 3]\n",
            " [3 4 5]]\n",
            "\n",
            "Addition of the element of both Array\n",
            "[[ 2  4  6]\n",
            " [ 6  8 10]]\n"
          ]
        }
      ]
    },
    {
      "cell_type": "code",
      "source": [
        "import numpy as np \n",
        "print(\"Elements of array are:\")\n",
        "a = np.array([1,2,3,4,5,6])\n",
        "print(a)\n",
        "\n",
        "print(\"\\nPerforming operations on Array:\")\n",
        "print(\"\\n****************************************************************\")   \n",
        "\n",
        "print ('Adding the elements to array:')\n",
        "print(np.append(a, [7,8,9]) )\n",
        "#Adding the new elements at the end of array\n",
        " "
      ],
      "metadata": {
        "colab": {
          "base_uri": "https://localhost:8080/"
        },
        "id": "QmhLk-Am-q84",
        "outputId": "f02ee9cb-6983-479b-8e4b-10eb4e6889f5"
      },
      "execution_count": 76,
      "outputs": [
        {
          "output_type": "stream",
          "name": "stdout",
          "text": [
            "Elements of array are:\n",
            "[1 2 3 4 5 6]\n",
            "\n",
            "Performing operations on Array:\n",
            "\n",
            "****************************************************************\n",
            "Adding the elements to array:\n",
            "[1 2 3 4 5 6 7 8 9]\n"
          ]
        }
      ]
    }
  ]
}