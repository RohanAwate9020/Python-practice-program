{
  "nbformat": 4,
  "nbformat_minor": 0,
  "metadata": {
    "colab": {
      "name": "Activity1Numpy.ipynb",
      "provenance": [],
      "authorship_tag": "ABX9TyOEUjqqt1MFoeRjjaU72P+1",
      "include_colab_link": true
    },
    "kernelspec": {
      "name": "python3",
      "display_name": "Python 3"
    },
    "language_info": {
      "name": "python"
    }
  },
  "cells": [
    {
      "cell_type": "markdown",
      "metadata": {
        "id": "view-in-github",
        "colab_type": "text"
      },
      "source": [
        "<a href=\"https://colab.research.google.com/github/RohanAwate9020/Python-practice-program/blob/main/Activity1Numpy.ipynb\" target=\"_parent\"><img src=\"https://colab.research.google.com/assets/colab-badge.svg\" alt=\"Open In Colab\"/></a>"
      ]
    },
    {
      "cell_type": "code",
      "execution_count": 31,
      "metadata": {
        "colab": {
          "base_uri": "https://localhost:8080/"
        },
        "id": "H9uS5PZ9tTkM",
        "outputId": "743db082-86c4-40b4-88d3-22322afa071f"
      },
      "outputs": [
        {
          "output_type": "stream",
          "name": "stdout",
          "text": [
            "Elements of Array are:\n",
            "[[[ 1  2  3  4]\n",
            "  [ 5  6  7  8]]\n",
            "\n",
            " [[ 9 10 11 12]\n",
            "  [12  4  5  6]]]\n",
            "\n",
            "********************************************************************\n",
            "Performing multiple operations on array:\n",
            "\n",
            "1.\tType of array: <class 'numpy.ndarray'>\n",
            "2.\tThe array is: 3 dimensional\n",
            "3.\tThe Size of array(Printing the elements stored in array): 16\n",
            "4.\tArray Store element of type: int64\n"
          ]
        }
      ],
      "source": [
        "import numpy as np\n",
        "#numpy library \n",
        "\n",
        "arr=np.array([[[1,2,3,4],[5,6,7,8]],[[9,10,11,12],[12,4,5,6]]])\n",
        "#Definig and initializing array\n",
        "\n",
        "print(\"Elements of Array are:\")\n",
        "print(arr)\n",
        "#printing array\n",
        "\n",
        "print(\"\\n********************************************************************\")\n",
        "print(\"Performing multiple operations on array:\")\n",
        "\n",
        "\n",
        "print(\"\\n1.\\tType of array:\", type(arr))\n",
        "#printing type of array\n",
        "\n",
        "\n",
        "print(\"2.\\tThe array is:\", arr.ndim,\"dimensional\")\n",
        "#printing dimensions of array\n",
        "\n",
        "print(\"3.\\tThe Size of array(Printing the elements stored in array):\",arr.size)\n",
        "#printing the size of array\n",
        "\n",
        "print(\"4.\\tArray Store element of type:\",arr.dtype)\n",
        "#printing array element datatype\n",
        "\n",
        "\n",
        "\n"
      ]
    },
    {
      "cell_type": "code",
      "source": [
        "print(\"Hii\")"
      ],
      "metadata": {
        "colab": {
          "base_uri": "https://localhost:8080/"
        },
        "id": "TOZz8VkZtpLW",
        "outputId": "c8bfe950-27c2-4238-a26b-edb92dcc1a12"
      },
      "execution_count": null,
      "outputs": [
        {
          "output_type": "stream",
          "name": "stdout",
          "text": [
            "Hii\n"
          ]
        }
      ]
    }
  ]
}