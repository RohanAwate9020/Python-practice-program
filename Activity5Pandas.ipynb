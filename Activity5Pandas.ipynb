{
  "nbformat": 4,
  "nbformat_minor": 0,
  "metadata": {
    "colab": {
      "name": "Activity5Pandas.ipynb",
      "provenance": [],
      "collapsed_sections": [],
      "authorship_tag": "ABX9TyPi5uNn5zoQKPDa6AgbDtG7",
      "include_colab_link": true
    },
    "kernelspec": {
      "name": "python3",
      "display_name": "Python 3"
    },
    "language_info": {
      "name": "python"
    }
  },
  "cells": [
    {
      "cell_type": "markdown",
      "metadata": {
        "id": "view-in-github",
        "colab_type": "text"
      },
      "source": [
        "<a href=\"https://colab.research.google.com/github/RohanAwate9020/Python-practice-program/blob/main/Activity5Pandas.ipynb\" target=\"_parent\"><img src=\"https://colab.research.google.com/assets/colab-badge.svg\" alt=\"Open In Colab\"/></a>"
      ]
    },
    {
      "cell_type": "code",
      "execution_count": 3,
      "metadata": {
        "colab": {
          "base_uri": "https://localhost:8080/"
        },
        "id": "_c9LKfpaMSeq",
        "outputId": "2f203eb6-6dce-4f48-9bc4-3bd3508d463a"
      },
      "outputs": [
        {
          "output_type": "stream",
          "name": "stdout",
          "text": [
            "           Date  Shape of You  ...    HUMBLE.  Unforgettable\n",
            "0    2017-01-06      12287078  ...        NaN            NaN\n",
            "1    2017-01-07      13190270  ...        NaN            NaN\n",
            "2    2017-01-08      13099919  ...        NaN            NaN\n",
            "3    2017-01-09      14506351  ...        NaN            NaN\n",
            "4    2017-01-10      14275628  ...        NaN            NaN\n",
            "..          ...           ...  ...        ...            ...\n",
            "361  2018-01-05       4492978  ...  2685857.0      2869783.0\n",
            "362  2018-01-06       4416476  ...  2559044.0      2743748.0\n",
            "363  2018-01-07       4009104  ...  2350985.0      2441045.0\n",
            "364  2018-01-08       4135505  ...  2523265.0      2622693.0\n",
            "365  2018-01-09       4168506  ...  2727678.0      2627334.0\n",
            "\n",
            "[366 rows x 6 columns]\n"
          ]
        }
      ],
      "source": [
        "import pandas as pd\n",
        "df = pd.read_csv('/spotify.csv')\n",
        "print(df)"
      ]
    },
    {
      "cell_type": "code",
      "source": [
        "import pandas as pd\n",
        "df = pd.read_csv('/spotify.csv')\n",
        "newfile = pd.DataFrame()\n",
        "df.to_csv('newfile.csv')\n",
        "db = pd.read_csv('newfile.csv')\n",
        "print(\"\\t\\t***Content from Spotify File***\")\n",
        "print(df)\n",
        "print(\"\\n\\n***Content from Newfile which is copy of Spotify File***\")\n",
        "print(db)"
      ],
      "metadata": {
        "colab": {
          "base_uri": "https://localhost:8080/"
        },
        "id": "VKFu8MjhMtJ8",
        "outputId": "0895b2d5-7090-434d-a66d-a38df34cadff"
      },
      "execution_count": 11,
      "outputs": [
        {
          "output_type": "stream",
          "name": "stdout",
          "text": [
            "\t\t***Content from Spotify File***\n",
            "           Date  Shape of You  ...    HUMBLE.  Unforgettable\n",
            "0    2017-01-06      12287078  ...        NaN            NaN\n",
            "1    2017-01-07      13190270  ...        NaN            NaN\n",
            "2    2017-01-08      13099919  ...        NaN            NaN\n",
            "3    2017-01-09      14506351  ...        NaN            NaN\n",
            "4    2017-01-10      14275628  ...        NaN            NaN\n",
            "..          ...           ...  ...        ...            ...\n",
            "361  2018-01-05       4492978  ...  2685857.0      2869783.0\n",
            "362  2018-01-06       4416476  ...  2559044.0      2743748.0\n",
            "363  2018-01-07       4009104  ...  2350985.0      2441045.0\n",
            "364  2018-01-08       4135505  ...  2523265.0      2622693.0\n",
            "365  2018-01-09       4168506  ...  2727678.0      2627334.0\n",
            "\n",
            "[366 rows x 6 columns]\n",
            "\n",
            "\n",
            "***Content from Newfile which is copy of Spotify File***\n",
            "     Unnamed: 0        Date  ...    HUMBLE.  Unforgettable\n",
            "0             0  2017-01-06  ...        NaN            NaN\n",
            "1             1  2017-01-07  ...        NaN            NaN\n",
            "2             2  2017-01-08  ...        NaN            NaN\n",
            "3             3  2017-01-09  ...        NaN            NaN\n",
            "4             4  2017-01-10  ...        NaN            NaN\n",
            "..          ...         ...  ...        ...            ...\n",
            "361         361  2018-01-05  ...  2685857.0      2869783.0\n",
            "362         362  2018-01-06  ...  2559044.0      2743748.0\n",
            "363         363  2018-01-07  ...  2350985.0      2441045.0\n",
            "364         364  2018-01-08  ...  2523265.0      2622693.0\n",
            "365         365  2018-01-09  ...  2727678.0      2627334.0\n",
            "\n",
            "[366 rows x 7 columns]\n"
          ]
        }
      ]
    },
    {
      "cell_type": "code",
      "source": [
        "import pandas as pd\n",
        "s1 = pd.Series([1, 3, 4, 5, 6, 2, 9])  \n",
        "s2 = pd.Series([1.1, 3.5, 4.7, 5.8, 2.9, 9.3])\n",
        "s3 = pd.Series(['a', 'b', 'c', 'd', 'e'])     \n",
        "Data ={'first':s1, 'second':s2, 'third':s3}\n",
        "dfseries = pd.DataFrame(Data)\n",
        "print(dfseries)"
      ],
      "metadata": {
        "colab": {
          "base_uri": "https://localhost:8080/"
        },
        "id": "OWXiuNblOQJX",
        "outputId": "c7033788-a72f-46c1-ed0a-abd50df30c87"
      },
      "execution_count": 12,
      "outputs": [
        {
          "output_type": "stream",
          "name": "stdout",
          "text": [
            "   first  second third\n",
            "0      1     1.1     a\n",
            "1      3     3.5     b\n",
            "2      4     4.7     c\n",
            "3      5     5.8     d\n",
            "4      6     2.9     e\n",
            "5      2     9.3   NaN\n",
            "6      9     NaN   NaN\n"
          ]
        }
      ]
    },
    {
      "cell_type": "code",
      "source": [
        "import pandas as pd \n",
        "d1 =[[2, 3, 4], [5, 6, 7]] \n",
        "d2 =[[2, 4, 8], [1, 3, 9]] \n",
        "Data ={'first': d1, 'second': d2}  \n",
        "df2d = pd.DataFrame(Data)    \n",
        "print(df2d)"
      ],
      "metadata": {
        "colab": {
          "base_uri": "https://localhost:8080/"
        },
        "id": "ySm1r0n5O8ri",
        "outputId": "25f0001d-2556-4a35-b9db-7917fd24e9be"
      },
      "execution_count": 13,
      "outputs": [
        {
          "output_type": "stream",
          "name": "stdout",
          "text": [
            "       first     second\n",
            "0  [2, 3, 4]  [2, 4, 8]\n",
            "1  [5, 6, 7]  [1, 3, 9]\n"
          ]
        }
      ]
    },
    {
      "cell_type": "code",
      "source": [
        "import pandas as pd\n",
        "df = pd.read_csv('/spotify.csv')\n",
        "jsonfile = pd.DataFrame()\n",
        "df.to_json('jsonfile.json')\n",
        "tp= pd.read_csv('jsonfile.json')\n",
        "print(tp)"
      ],
      "metadata": {
        "colab": {
          "base_uri": "https://localhost:8080/"
        },
        "id": "FHLbBWq9PKXj",
        "outputId": "c8427b80-9132-413c-ec7f-1554a5aa2861"
      },
      "execution_count": 19,
      "outputs": [
        {
          "output_type": "stream",
          "name": "stdout",
          "text": [
            "Empty DataFrame\n",
            "Columns: [{\"Date\":{\"0\":\"2017-01-06\", 1:\"2017-01-07\", 2:\"2017-01-08\", 3:\"2017-01-09\", 4:\"2017-01-10\", 5:\"2017-01-11\", 6:\"2017-01-12\", 7:\"2017-01-13\", 8:\"2017-01-14\", 9:\"2017-01-15\", 10:\"2017-01-16\", 11:\"2017-01-17\", 12:\"2017-01-18\", 13:\"2017-01-19\", 14:\"2017-01-20\", 15:\"2017-01-21\", 16:\"2017-01-22\", 17:\"2017-01-23\", 18:\"2017-01-24\", 19:\"2017-01-25\", 20:\"2017-01-26\", 21:\"2017-01-27\", 22:\"2017-01-28\", 23:\"2017-01-29\", 24:\"2017-01-30\", 25:\"2017-01-31\", 26:\"2017-02-01\", 27:\"2017-02-02\", 28:\"2017-02-03\", 29:\"2017-02-04\", 30:\"2017-02-05\", 31:\"2017-02-06\", 32:\"2017-02-07\", 33:\"2017-02-08\", 34:\"2017-02-09\", 35:\"2017-02-10\", 36:\"2017-02-11\", 37:\"2017-02-12\", 38:\"2017-02-13\", 39:\"2017-02-14\", 40:\"2017-02-15\", 41:\"2017-02-16\", 42:\"2017-02-17\", 43:\"2017-02-18\", 44:\"2017-02-19\", 45:\"2017-02-20\", 46:\"2017-02-21\", 47:\"2017-02-22\", 48:\"2017-02-23\", 49:\"2017-02-24\", 50:\"2017-02-25\", 51:\"2017-02-26\", 52:\"2017-02-27\", 53:\"2017-02-28\", 54:\"2017-03-01\", 55:\"2017-03-02\", 56:\"2017-03-03\", 57:\"2017-03-04\", 58:\"2017-03-05\", 59:\"2017-03-06\", 60:\"2017-03-07\", 61:\"2017-03-08\", 62:\"2017-03-09\", 63:\"2017-03-10\", 64:\"2017-03-11\", 65:\"2017-03-12\", 66:\"2017-03-13\", 67:\"2017-03-14\", 68:\"2017-03-15\", 69:\"2017-03-16\", 70:\"2017-03-17\", 71:\"2017-03-18\", 72:\"2017-03-19\", 73:\"2017-03-20\", 74:\"2017-03-21\", 75:\"2017-03-22\", 76:\"2017-03-23\", 77:\"2017-03-24\", 78:\"2017-03-25\", 79:\"2017-03-26\", 80:\"2017-03-27\", 81:\"2017-03-28\", 82:\"2017-03-29\", 83:\"2017-03-30\", 84:\"2017-03-31\", 85:\"2017-04-01\", 86:\"2017-04-02\", 87:\"2017-04-03\", 88:\"2017-04-04\", 89:\"2017-04-05\", 90:\"2017-04-06\", 91:\"2017-04-07\", 92:\"2017-04-08\", 93:\"2017-04-09\", 94:\"2017-04-10\", 95:\"2017-04-11\", 96:\"2017-04-12\", 97:\"2017-04-13\", 98:\"2017-04-14\", 99:\"2017-04-15\", ...]\n",
            "Index: []\n",
            "\n",
            "[0 rows x 2196 columns]\n"
          ]
        }
      ]
    },
    {
      "cell_type": "code",
      "source": [
        "import pandas as pd\n",
        "df1=pd.read_csv('/iris_virginica.csv')\n",
        "df2=pd.read_csv(\"/spotify.csv\")\n",
        "comparison_values = df1.values != df2.values\n",
        "print(comparison_values)\n"
      ],
      "metadata": {
        "colab": {
          "base_uri": "https://localhost:8080/"
        },
        "id": "B-t2c4NLQPre",
        "outputId": "a0cc8b00-b999-4e4a-9490-89ee5c975d31"
      },
      "execution_count": 27,
      "outputs": [
        {
          "output_type": "stream",
          "name": "stdout",
          "text": [
            "True\n"
          ]
        },
        {
          "output_type": "stream",
          "name": "stderr",
          "text": [
            "/usr/local/lib/python3.7/dist-packages/ipykernel_launcher.py:4: DeprecationWarning: elementwise comparison failed; this will raise an error in the future.\n",
            "  after removing the cwd from sys.path.\n"
          ]
        }
      ]
    },
    {
      "cell_type": "code",
      "source": [
        "import pandas as pd\n",
        "df = pd.read_csv('/spotify.csv')\n",
        "df.dropna()\n",
        "print(df)"
      ],
      "metadata": {
        "colab": {
          "base_uri": "https://localhost:8080/"
        },
        "id": "AfP7zE4_SRfE",
        "outputId": "8a8edd99-5d52-4c03-98d9-7fd9642f1435"
      },
      "execution_count": 32,
      "outputs": [
        {
          "output_type": "stream",
          "name": "stdout",
          "text": [
            "           Date  Shape of You  ...    HUMBLE.  Unforgettable\n",
            "0    2017-01-06      12287078  ...        NaN            NaN\n",
            "1    2017-01-07      13190270  ...        NaN            NaN\n",
            "2    2017-01-08      13099919  ...        NaN            NaN\n",
            "3    2017-01-09      14506351  ...        NaN            NaN\n",
            "4    2017-01-10      14275628  ...        NaN            NaN\n",
            "..          ...           ...  ...        ...            ...\n",
            "361  2018-01-05       4492978  ...  2685857.0      2869783.0\n",
            "362  2018-01-06       4416476  ...  2559044.0      2743748.0\n",
            "363  2018-01-07       4009104  ...  2350985.0      2441045.0\n",
            "364  2018-01-08       4135505  ...  2523265.0      2622693.0\n",
            "365  2018-01-09       4168506  ...  2727678.0      2627334.0\n",
            "\n",
            "[366 rows x 6 columns]\n"
          ]
        }
      ]
    },
    {
      "cell_type": "code",
      "source": [
        "import numpy as np\n",
        "import pandas as pd\n",
        "fruits = ['apples', 'oranges', 'cherries', 'pears']\n",
        "S = pd.Series([20, 33, 52, 10], index=fruits)\n",
        "print((S + 3) * 4)\n",
        "print(\"======================\")\n",
        "print(np.sin(S))"
      ],
      "metadata": {
        "colab": {
          "base_uri": "https://localhost:8080/"
        },
        "id": "yTjNF3KoSguJ",
        "outputId": "5abb1614-a8d4-4ebf-ac81-a96e5898b68e"
      },
      "execution_count": 30,
      "outputs": [
        {
          "output_type": "stream",
          "name": "stdout",
          "text": [
            "apples       92\n",
            "oranges     144\n",
            "cherries    220\n",
            "pears        52\n",
            "dtype: int64\n",
            "======================\n",
            "apples      0.912945\n",
            "oranges     0.999912\n",
            "cherries    0.986628\n",
            "pears      -0.544021\n",
            "dtype: float64\n"
          ]
        }
      ]
    }
  ]
}